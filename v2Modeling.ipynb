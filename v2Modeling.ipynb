{
 "cells": [
  {
   "cell_type": "markdown",
   "metadata": {},
   "source": [
    "# FlyGenius Flight Time Modeling v.2\n",
    "\n",
    "FlyGenius is undergoing a major update from the first version. We're going to be using the same dataset, but redesign the prediction process. In the previous version, we used a `Sequential` model from Tensorflow to output one value. This time we are going to swap regression for classification, and predict the timeslot that each flight will depart in. \n",
    "\n",
    "## Importing and Cleaning the Data"
   ]
  },
  {
   "cell_type": "code",
   "execution_count": 1,
   "metadata": {},
   "outputs": [],
   "source": [
    "import glob\n",
    "import numpy as np \n",
    "import pandas as pd\n",
    "from sklearn.model_selection import train_test_split\n",
    "from sklearn.preprocessing import LabelEncoder\n",
    "from math import isclose\n",
    "\n",
    "import matplotlib.pyplot as plt\n",
    "import seaborn as sns\n",
    "sns.set(style=\"whitegrid\")\n",
    "\n",
    "import warnings\n",
    "warnings.filterwarnings(\"ignore\")"
   ]
  },
  {
   "cell_type": "markdown",
   "metadata": {},
   "source": [
    "The dataset is unchanged from before, so it is imported the same way."
   ]
  },
  {
   "cell_type": "code",
   "execution_count": 2,
   "metadata": {},
   "outputs": [],
   "source": [
    "january_data = glob.glob('data/flight-data/*/*_1.csv')\n",
    "\n",
    "loaded_data = []\n",
    "\n",
    "for path in january_data:\n",
    "    this_data = pd.read_csv(path, skipinitialspace=True, low_memory=False)\n",
    "    loaded_data.append(this_data)\n",
    "\n",
    "df = pd.concat(loaded_data)"
   ]
  },
  {
   "cell_type": "markdown",
   "metadata": {},
   "source": [
    "Once again, we import the lookup table for airlines"
   ]
  },
  {
   "cell_type": "code",
   "execution_count": 3,
   "metadata": {},
   "outputs": [],
   "source": [
    "this_data = pd.read_csv('data/assorted/carriers.csv', skipinitialspace=True, low_memory=False)\n",
    "\n",
    "airlines_lookup = this_data.set_index('Code')['Description'].to_dict()"
   ]
  },
  {
   "cell_type": "markdown",
   "metadata": {},
   "source": [
    "### Cleaning\n",
    "\n",
    "Now we remove all but the needed values from the dataframe. "
   ]
  },
  {
   "cell_type": "code",
   "execution_count": 4,
   "metadata": {},
   "outputs": [],
   "source": [
    "df = df[['Month', 'DayOfWeek', 'Reporting_Airline', 'Origin',\n",
    "         'Dest', 'DepDelay', 'CRSElapsedTime', 'CRSDepTime', 'DepTimeBlk', 'ArrTimeBlk']]"
   ]
  },
  {
   "cell_type": "markdown",
   "metadata": {},
   "source": [
    "Dropping any rows with missing values:"
   ]
  },
  {
   "cell_type": "code",
   "execution_count": 5,
   "metadata": {},
   "outputs": [
    {
     "name": "stdout",
     "output_type": "stream",
     "text": [
      "Removed 48998 entries out of 1935930\n"
     ]
    }
   ],
   "source": [
    "before = len(df.index)\n",
    "df.dropna(inplace = True)\n",
    "after = len(df.index)\n",
    "\n",
    "diff = before - after\n",
    "\n",
    "print(\"Removed {} entries out of {}\".format(diff, before))"
   ]
  },
  {
   "cell_type": "markdown",
   "metadata": {},
   "source": [
    "Note that we're using airline and airport IDs, which are alphanumeric. Before feeding these into the model, they must be encoded into integers.  "
   ]
  },
  {
   "cell_type": "code",
   "execution_count": 6,
   "metadata": {},
   "outputs": [],
   "source": [
    "label_encoder = LabelEncoder()\n",
    "integer_encoded = label_encoder.fit_transform(df['Origin'])\n",
    "zipped = zip(df['Origin'], integer_encoded)\n",
    "airports = dict(zipped)\n",
    "\n",
    "df['Origin'] = df['Origin'].replace(to_replace=airports, value=None)\n",
    "df['Dest'] = df['Dest'].replace(to_replace=airports, value=None)\n",
    "\n",
    "integer_encoded = label_encoder.fit_transform(df['Reporting_Airline'])\n",
    "zipped = zip(df['Reporting_Airline'], integer_encoded)\n",
    "airlines = dict(zipped)\n",
    "\n",
    "df['Reporting_Airline'] = df['Reporting_Airline'].replace(to_replace=airlines, value=None)\n",
    "\n",
    "\n",
    "integer_encoded = label_encoder.fit_transform(df['DepTimeBlk'])\n",
    "zipped = zip(df['DepTimeBlk'], integer_encoded)\n",
    "departures = dict(zipped)\n",
    "\n",
    "df['DepTimeBlk'] = df['DepTimeBlk'].replace(to_replace=departures, value=None)\n",
    "\n",
    "\n",
    "integer_encoded = label_encoder.fit_transform(df['ArrTimeBlk'])\n",
    "zipped = zip(df['ArrTimeBlk'], integer_encoded)\n",
    "arrivals = dict(zipped)\n",
    "\n",
    "df['ArrTimeBlk'] = df['ArrTimeBlk'].replace(to_replace=arrivals, value=None)\n",
    "\n",
    "\n",
    "# label_encoder = LabelEncoder()\n",
    "# integer_encoded = label_encoder.fit_transform(df['CRSDepTime'])\n",
    "# zipped = zip(df['CRSDepTime'], integer_encoded)\n",
    "# dep_times = dict(zipped)\n",
    "\n",
    "# df['CRSDepTime'] = df['CRSDepTime'].replace(to_replace=dep_times, value=None)"
   ]
  },
  {
   "cell_type": "code",
   "execution_count": 7,
   "metadata": {},
   "outputs": [
    {
     "data": {
      "text/html": [
       "<div>\n",
       "<style scoped>\n",
       "    .dataframe tbody tr th:only-of-type {\n",
       "        vertical-align: middle;\n",
       "    }\n",
       "\n",
       "    .dataframe tbody tr th {\n",
       "        vertical-align: top;\n",
       "    }\n",
       "\n",
       "    .dataframe thead th {\n",
       "        text-align: right;\n",
       "    }\n",
       "</style>\n",
       "<table border=\"1\" class=\"dataframe\">\n",
       "  <thead>\n",
       "    <tr style=\"text-align: right;\">\n",
       "      <th></th>\n",
       "      <th>DayOfWeek</th>\n",
       "      <th>Reporting_Airline</th>\n",
       "      <th>Origin</th>\n",
       "      <th>DepTimeBlk</th>\n",
       "      <th>ArrTimeBlk</th>\n",
       "    </tr>\n",
       "  </thead>\n",
       "  <tbody>\n",
       "    <tr>\n",
       "      <th>0</th>\n",
       "      <td>3</td>\n",
       "      <td>1</td>\n",
       "      <td>89</td>\n",
       "      <td>6</td>\n",
       "      <td>9</td>\n",
       "    </tr>\n",
       "    <tr>\n",
       "      <th>1</th>\n",
       "      <td>4</td>\n",
       "      <td>1</td>\n",
       "      <td>89</td>\n",
       "      <td>6</td>\n",
       "      <td>9</td>\n",
       "    </tr>\n",
       "    <tr>\n",
       "      <th>2</th>\n",
       "      <td>5</td>\n",
       "      <td>1</td>\n",
       "      <td>89</td>\n",
       "      <td>6</td>\n",
       "      <td>9</td>\n",
       "    </tr>\n",
       "    <tr>\n",
       "      <th>3</th>\n",
       "      <td>6</td>\n",
       "      <td>1</td>\n",
       "      <td>89</td>\n",
       "      <td>6</td>\n",
       "      <td>9</td>\n",
       "    </tr>\n",
       "    <tr>\n",
       "      <th>4</th>\n",
       "      <td>7</td>\n",
       "      <td>1</td>\n",
       "      <td>89</td>\n",
       "      <td>6</td>\n",
       "      <td>9</td>\n",
       "    </tr>\n",
       "  </tbody>\n",
       "</table>\n",
       "</div>"
      ],
      "text/plain": [
       "   DayOfWeek  Reporting_Airline  Origin  DepTimeBlk  ArrTimeBlk\n",
       "0          3                  1      89           6           9\n",
       "1          4                  1      89           6           9\n",
       "2          5                  1      89           6           9\n",
       "3          6                  1      89           6           9\n",
       "4          7                  1      89           6           9"
      ]
     },
     "execution_count": 7,
     "metadata": {},
     "output_type": "execute_result"
    }
   ],
   "source": [
    "y = df['DepDelay']\n",
    "X = df.drop(columns=['DepDelay', 'CRSElapsedTime', 'CRSDepTime', 'Month', 'Dest'])\n",
    "\n",
    "y = y.tolist()\n",
    "\n",
    "X.head()"
   ]
  },
  {
   "cell_type": "markdown",
   "metadata": {},
   "source": [
    "Now, we need to convert each of the times in `y` into a category label. The categories are:\n",
    "\n",
    " 0. (x < 0)\n",
    " 1. (0 <= x < 5) \n",
    " 2. (5 <= x < 10)\n",
    " 3. (10 <= x < 20)\n",
    " 4. (x > 20) "
   ]
  },
  {
   "cell_type": "code",
   "execution_count": 8,
   "metadata": {},
   "outputs": [],
   "source": [
    "\n",
    "    \n",
    "for i in range(len(y)):\n",
    "    if y[i] < 5:\n",
    "        y[i] = 0\n",
    "#     elif y[i] >= 0 and y[i] < 5:\n",
    "#         y[i] = 1\n",
    "#     elif y[i] >= 5 and y[i] < 10:\n",
    "#         y[i] = 2\n",
    "#     elif y[i] >= 10 and y[i] < 20:\n",
    "#         y[i] = 3\n",
    "    else:\n",
    "        y[i] = 1\n"
   ]
  },
  {
   "cell_type": "markdown",
   "metadata": {},
   "source": [
    "## Building the Model\n",
    "\n",
    "Now we can begin to build the model. As before, we're using Tensorflow so we can export the models as `json` files and open them up with tensorflow.js."
   ]
  },
  {
   "cell_type": "code",
   "execution_count": 9,
   "metadata": {},
   "outputs": [],
   "source": [
    "import tensorflow as tf\n",
    "from tensorflow import keras"
   ]
  },
  {
   "cell_type": "code",
   "execution_count": 10,
   "metadata": {},
   "outputs": [
    {
     "name": "stdout",
     "output_type": "stream",
     "text": [
      "        DayOfWeek  Reporting_Airline  Origin  DepTimeBlk  ArrTimeBlk\n",
      "64157           6                 10     116          15          17\n",
      "102817          3                  4      18          11          13\n",
      "17529           1                 13     154          13          15\n",
      "188324          6                 13     178          18           0\n",
      "200352          3                 16     304          11          12\n"
     ]
    }
   ],
   "source": [
    "X_train, X_test, y_train, y_test = train_test_split(X, y, test_size=0.2, random_state=42)\n",
    "\n",
    "print(X_train[:5])"
   ]
  },
  {
   "cell_type": "markdown",
   "metadata": {},
   "source": [
    "Now, the model. Previously we were using a regression model, but with a bit of tweaking we can make a classification model using the same keras `Sequential` model. Rather than one value output, the new model uses a softmax layer to output two possible values for the two classes."
   ]
  },
  {
   "cell_type": "code",
   "execution_count": 11,
   "metadata": {},
   "outputs": [],
   "source": [
    "def build_regression_model():\n",
    "  model = keras.Sequential([\n",
    "    keras.layers.Dense(64, activation=tf.nn.relu, input_shape=(X_train.shape[1],)),\n",
    "    keras.layers.Dense(64, activation=tf.nn.relu),\n",
    "    keras.layers.Dense(64, activation=tf.nn.relu),\n",
    "    keras.layers.Dense(1)\n",
    "  ])\n",
    "\n",
    "  optimizer = tf.train.RMSPropOptimizer(0.001)\n",
    "  model.compile(loss='mse', optimizer=optimizer, metrics=['mae'])\n",
    "\n",
    "  return model\n",
    "\n",
    "\n",
    "def build_classification_model():\n",
    "  model = keras.Sequential([\n",
    "    keras.layers.Dense(64, activation=tf.nn.relu, input_shape=(X_train.shape[1],)),\n",
    "    keras.layers.Dense(128, activation=tf.nn.relu),\n",
    "    keras.layers.Dense(128, activation=tf.nn.relu),\n",
    "    keras.layers.Dense(2, activation=tf.nn.softmax)\n",
    "  ])\n",
    "\n",
    "  model.compile(optimizer='adam', \n",
    "              loss='sparse_categorical_crossentropy',\n",
    "              metrics=['accuracy'])\n",
    "\n",
    "  return model\n",
    "\n",
    "EPOCHS = 1"
   ]
  },
  {
   "cell_type": "code",
   "execution_count": 12,
   "metadata": {},
   "outputs": [
    {
     "name": "stdout",
     "output_type": "stream",
     "text": [
      "WARNING:tensorflow:From /usr/local/lib/python3.7/site-packages/tensorflow/python/ops/resource_variable_ops.py:435: colocate_with (from tensorflow.python.framework.ops) is deprecated and will be removed in a future version.\n",
      "Instructions for updating:\n",
      "Colocations handled automatically by placer.\n",
      "1509545/1509545 [==============================] - 67s 44us/sample - loss: 0.5849 - acc: 0.7151\n"
     ]
    },
    {
     "data": {
      "text/plain": [
       "<tensorflow.python.keras.callbacks.History at 0x11fffbd30>"
      ]
     },
     "execution_count": 12,
     "metadata": {},
     "output_type": "execute_result"
    }
   ],
   "source": [
    "model = build_classification_model()\n",
    "\n",
    "model.fit(X_train, y_train, epochs=EPOCHS)"
   ]
  },
  {
   "cell_type": "markdown",
   "metadata": {},
   "source": [
    "Now that the model is trained, we can check the accuracy on the test set. "
   ]
  },
  {
   "cell_type": "code",
   "execution_count": 13,
   "metadata": {},
   "outputs": [
    {
     "name": "stdout",
     "output_type": "stream",
     "text": [
      "377387/377387 [==============================] - 7s 19us/sample - loss: 0.5791 - acc: 0.7162\n"
     ]
    },
    {
     "data": {
      "text/plain": [
       "0.71623296"
      ]
     },
     "execution_count": 13,
     "metadata": {},
     "output_type": "execute_result"
    }
   ],
   "source": [
    "test_loss, test_acc = model.evaluate(X_test, y_test)\n",
    "\n",
    "test_acc"
   ]
  },
  {
   "cell_type": "markdown",
   "metadata": {},
   "source": [
    "Clearly the accuracy is not great, but there's more that can be done. Let's take a look at some of the predictions."
   ]
  },
  {
   "cell_type": "code",
   "execution_count": 14,
   "metadata": {},
   "outputs": [
    {
     "name": "stdout",
     "output_type": "stream",
     "text": [
      "Predicted class: 0\n",
      "Real class: 0\n",
      "79% chance correct\n",
      "\n",
      "Predicted class: 0\n",
      "Real class: 1\n",
      "72% chance correct\n",
      "\n",
      "Predicted class: 0\n",
      "Real class: 0\n",
      "85% chance correct\n",
      "\n",
      "Predicted class: 0\n",
      "Real class: 0\n",
      "61% chance correct\n",
      "\n",
      "Predicted class: 0\n",
      "Real class: 0\n",
      "68% chance correct\n",
      "\n",
      "Predicted class: 0\n",
      "Real class: 0\n",
      "74% chance correct\n",
      "\n",
      "Predicted class: 0\n",
      "Real class: 1\n",
      "64% chance correct\n",
      "\n",
      "Predicted class: 0\n",
      "Real class: 1\n",
      "65% chance correct\n",
      "\n",
      "Predicted class: 0\n",
      "Real class: 0\n",
      "79% chance correct\n",
      "\n",
      "Predicted class: 0\n",
      "Real class: 1\n",
      "62% chance correct\n",
      "\n"
     ]
    }
   ],
   "source": [
    "predictions = model.predict(X_test)\n",
    "\n",
    "for index in range(10):\n",
    "    print('Predicted class: {}'.format(np.argmax(predictions[index])))\n",
    "    print('Real class: {}'.format(y_test[index]))\n",
    "\n",
    "    print('{:2.0f}% chance correct\\n'.format(100*np.max(predictions[index])))"
   ]
  },
  {
   "cell_type": "markdown",
   "metadata": {},
   "source": [
    "As might be expected, it looks like when the model produces the wrong classification, the percent chance that it is correct is lower relative to when it produces the correct classification. Let's gather these predicted scores. "
   ]
  },
  {
   "cell_type": "code",
   "execution_count": 15,
   "metadata": {},
   "outputs": [
    {
     "name": "stdout",
     "output_type": "stream",
     "text": [
      "Wrong guesses: avg 70%, varience 0.463%\n",
      "Right guesses: avg 73%, varience 0.601%\n"
     ]
    }
   ],
   "source": [
    "wrong_guesses = []\n",
    "correct_guesses = []\n",
    "\n",
    "for index in range(len(predictions)):\n",
    "    if np.argmax(predictions[index]) != y_test[index]:\n",
    "        wrong_guesses.append(np.max(predictions[index]))\n",
    "    else:\n",
    "        correct_guesses.append(np.max(predictions[index]))\n",
    "\n",
    "print('Wrong guesses: avg {:2.0f}%, varience {:.3f}%'.format(100*np.mean(wrong_guesses), 100*np.var(wrong_guesses)))\n",
    "print('Right guesses: avg {:2.0f}%, varience {:.3f}%'.format(100*np.mean(correct_guesses), 100*np.var(correct_guesses)))"
   ]
  },
  {
   "cell_type": "markdown",
   "metadata": {},
   "source": [
    "Let's take a look at the distribution of correct and incorrect guesses and their related probabilities. "
   ]
  },
  {
   "cell_type": "code",
   "execution_count": 47,
   "metadata": {},
   "outputs": [
    {
     "data": {
      "image/png": "[encoded data removed]",
      "text/plain": [
       "<Figure size 432x288 with 1 Axes>"
      ]
     },
     "metadata": {
      "needs_background": "light"
     },
     "output_type": "display_data"
    }
   ],
   "source": [
    "sns.distplot(wrong_guesses)\n",
    "sns.distplot(correct_guesses)\n",
    "plt.title('Histogram of Guess Probabilities')\n",
    "plt.xlabel('Probability of Guess')\n",
    "plt.ylabel('Frequency')\n",
    "plt.show()"
   ]
  },
  {
   "cell_type": "code",
   "execution_count": 51,
   "metadata": {},
   "outputs": [
    {
     "data": {
      "image/png": "[encoded data removed]",
      "text/plain": [
       "<Figure size 432x432 with 3 Axes>"
      ]
     },
     "metadata": {
      "needs_background": "light"
     },
     "output_type": "display_data"
    }
   ],
   "source": [
    "new_correct = np.split(correct_guesses, [len(wrong_guesses)])[0]\n",
    "\n",
    "sns.jointplot(x=wrong_guesses, y=new_correct, kind=\"kde\", color=\"k\")\n",
    "\n",
    "plt.show()"
   ]
  },
  {
   "cell_type": "markdown",
   "metadata": {},
   "source": [
    "This graph compares the frequency of the probabilities when guessing correctly (on the Y axis) and incorrectly (X axis). We can see an interesting bimodal relationship here. The model more often assigns a probability of around 0.85 to guesses that are made correctly and less often assigns the same probability to incorrect guesses, which is good. In other words, when it assigns a very high probability, it is much more often right. However, most of the guesses (both incorrect and correct) seem to be in the range from 0.6-0.75, skewed right, with a low frequency of guesses in the range 0.75-0.8. This indicates that the model is mostly producing guesses with relatively average probabilities of being correct. \n",
    "\n",
    "This indicates that there is more work to be done to the model, such that the probabilities move upwards towards the second mode around 0.85 and away from the mode around 0.7. \n",
    "\n",
    "Let's take a look at what happens when the probability cutoff required for identification of a given class moves upwards from 0.5. "
   ]
  },
  {
   "cell_type": "code",
   "execution_count": 20,
   "metadata": {},
   "outputs": [],
   "source": []
  },
  {
   "cell_type": "code",
   "execution_count": null,
   "metadata": {},
   "outputs": [],
   "source": []
  },
  {
   "cell_type": "markdown",
   "metadata": {},
   "source": []
  },
  {
   "cell_type": "code",
   "execution_count": null,
   "metadata": {},
   "outputs": [],
   "source": []
  }
 ],
 "metadata": {
  "kernelspec": {
   "display_name": "Python 3",
   "language": "python",
   "name": "python3"
  },
  "language_info": {
   "codemirror_mode": {
    "name": "ipython",
    "version": 3
   },
   "file_extension": ".py",
   "mimetype": "text/x-python",
   "name": "python",
   "nbconvert_exporter": "python",
   "pygments_lexer": "ipython3",
   "version": "3.7.2"
  }
 },
 "nbformat": 4,
 "nbformat_minor": 2
}
