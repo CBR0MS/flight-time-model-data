{
 "cells": [
  {
   "cell_type": "markdown",
   "metadata": {},
   "source": [
    "# FlyGenius Flight Time Modeling v.2\n",
    "\n",
    "FlyGenius is undergoing a major update from the first version. We're going to be using the same dataset, but redesign the prediction process. In the previous version, we used a regression method to output one value. This time we are going to swap regression for classification, and predict the timeslot that each flight will depart or arrive, either on time or late.\n",
    "\n",
    "As before, we will be using Tensorflow with the Keras API to build the models. \n",
    "\n",
    "## Importing and Cleaning the Data"
   ]
  },
  {
   "cell_type": "code",
   "execution_count": 1,
   "metadata": {},
   "outputs": [],
   "source": [
    "import glob\n",
    "import numpy as np \n",
    "import pandas as pd\n",
    "import requests\n",
    "from sklearn.model_selection import train_test_split\n",
    "from sklearn.preprocessing import LabelEncoder\n",
    "from sklearn.metrics import confusion_matrix\n",
    "from sklearn.preprocessing import StandardScaler\n",
    "\n",
    "import matplotlib.pyplot as plt\n",
    "import seaborn as sns\n",
    "sns.set(style=\"whitegrid\")\n",
    "\n",
    "import warnings\n",
    "warnings.filterwarnings(\"ignore\")"
   ]
  },
  {
   "cell_type": "markdown",
   "metadata": {},
   "source": [
    "In this notebook, we'll work with data from 2017, so we import datasets from just this year."
   ]
  },
  {
   "cell_type": "code",
   "execution_count": 2,
   "metadata": {},
   "outputs": [],
   "source": [
    "all_data = glob.glob('data/flight-data/*_2017_*/*.csv')\n",
    "\n",
    "loaded_data = []\n",
    "\n",
    "for path in all_data:\n",
    "    this_data = pd.read_csv(path, skipinitialspace=True, low_memory=False)\n",
    "    loaded_data.append(this_data)\n",
    "\n",
    "all_df = pd.concat(loaded_data)"
   ]
  },
  {
   "cell_type": "markdown",
   "metadata": {},
   "source": [
    "### Cleaning"
   ]
  },
  {
   "cell_type": "markdown",
   "metadata": {},
   "source": [
    "Removing all but the needed values from the dataframe:"
   ]
  },
  {
   "cell_type": "code",
   "execution_count": 3,
   "metadata": {},
   "outputs": [],
   "source": [
    "corr_df = all_df[['Month', 'DayOfWeek', 'Reporting_Airline', 'Origin',\n",
    "         'Dest', 'DepDelay', 'ArrDelay', 'DepTimeBlk', 'ArrTimeBlk', 'Distance', 'AirTime', 'DayofMonth']]\n",
    "\n",
    "og_df = all_df[['Month', 'DayOfWeek', 'Reporting_Airline', 'Origin',\n",
    "         'Dest', 'DepDelay', 'ArrDelay', 'DepTimeBlk', 'ArrTimeBlk']]"
   ]
  },
  {
   "cell_type": "markdown",
   "metadata": {},
   "source": [
    "The dataframe is over 4 million rows, so let's cut it down and use 10% of the data, randomly selected."
   ]
  },
  {
   "cell_type": "code",
   "execution_count": 4,
   "metadata": {},
   "outputs": [],
   "source": [
    "og_df = og_df.sample(frac=0.1)"
   ]
  },
  {
   "cell_type": "markdown",
   "metadata": {},
   "source": [
    "Dropping any rows with missing values:"
   ]
  },
  {
   "cell_type": "code",
   "execution_count": 5,
   "metadata": {},
   "outputs": [
    {
     "name": "stdout",
     "output_type": "stream",
     "text": [
      "Removed 9375 entries out of 567462\n"
     ]
    }
   ],
   "source": [
    "def remove_missing(df):\n",
    "    before = len(df.index)\n",
    "    df.dropna(inplace = True)\n",
    "    after = len(df.index)\n",
    "\n",
    "    diff = before - after\n",
    "\n",
    "    print(\"Removed {} entries out of {}\".format(diff, before))\n",
    "    \n",
    "remove_missing(og_df)"
   ]
  },
  {
   "cell_type": "markdown",
   "metadata": {},
   "source": [
    "There might be more airlines in the dataset than there are major airlines we're interested in creating predictions for. Let's reduce the dataset down to just these major airlines."
   ]
  },
  {
   "cell_type": "code",
   "execution_count": 6,
   "metadata": {},
   "outputs": [
    {
     "name": "stdout",
     "output_type": "stream",
     "text": [
      "Removed 0 entries out of 558087\n"
     ]
    }
   ],
   "source": [
    "major_airlines = ['VX', 'HA', 'F9', 'NK', 'AS', 'B6', 'EV', 'UA', 'OO', 'AA', 'DL', 'WN']\n",
    "\n",
    "og_df['Reporting_Airline'] = og_df['Reporting_Airline'].map(lambda x: None if x not in major_airlines else x )\n",
    "\n",
    "remove_missing(og_df)"
   ]
  },
  {
   "cell_type": "markdown",
   "metadata": {},
   "source": [
    "Looks like the dataset just contains statistics for these airlines.\n",
    "\n",
    "Note that we're using airline and airport IDs, which are alphanumeric. Before feeding these into a model, they must be encoded into integers. This function allows us to control which features in the dataframe we want to encode."
   ]
  },
  {
   "cell_type": "code",
   "execution_count": 7,
   "metadata": {},
   "outputs": [],
   "source": [
    "def encode(df, origin=True, destination=True, airline=True, depart=True, arrive=True):\n",
    "    \n",
    "    if origin or destination:\n",
    "        \n",
    "        label_encoder = LabelEncoder()\n",
    "        integer_encoded = label_encoder.fit_transform(df['Origin'])\n",
    "        zipped = zip(df['Origin'], integer_encoded)\n",
    "        airports = dict(zipped)\n",
    "        \n",
    "        if origin:\n",
    "            print('Encoding origin')\n",
    "            df['Origin'] = df['Origin'].replace(to_replace=airports, value=None)\n",
    "            \n",
    "        if destination:\n",
    "            print('Encoding destination')\n",
    "            df['Dest'] = df['Dest'].replace(to_replace=airports, value=None)\n",
    "\n",
    "    if airline:\n",
    "        \n",
    "        label_encoder = LabelEncoder()\n",
    "        integer_encoded = label_encoder.fit_transform(df['Reporting_Airline'])\n",
    "        zipped = zip(df['Reporting_Airline'], integer_encoded)\n",
    "        airlines = dict(zipped)\n",
    "        print('Encoding airline')\n",
    "        df['Reporting_Airline'] = df['Reporting_Airline'].replace(to_replace=airlines, value=None)\n",
    "\n",
    "    if depart:\n",
    "        \n",
    "        label_encoder = LabelEncoder()\n",
    "        integer_encoded = label_encoder.fit_transform(df['DepTimeBlk'])\n",
    "        zipped = zip(df['DepTimeBlk'], integer_encoded)\n",
    "        departures = dict(zipped)\n",
    "        print('Encoding departing time')\n",
    "        df['DepTimeBlk'] = df['DepTimeBlk'].replace(to_replace=departures, value=None)\n",
    "\n",
    "    if arrive:\n",
    "                \n",
    "        label_encoder = LabelEncoder()\n",
    "        integer_encoded = label_encoder.fit_transform(df['ArrTimeBlk'])\n",
    "        zipped = zip(df['ArrTimeBlk'], integer_encoded)\n",
    "        arrivals = dict(zipped)\n",
    "        print('Encoding arrival time')\n",
    "        df['ArrTimeBlk'] = df['ArrTimeBlk'].replace(to_replace=arrivals, value=None)\n",
    "    \n",
    "    return df"
   ]
  },
  {
   "cell_type": "markdown",
   "metadata": {},
   "source": [
    "Now we can encode the non-numeric values in the dataframe:"
   ]
  },
  {
   "cell_type": "code",
   "execution_count": 8,
   "metadata": {},
   "outputs": [
    {
     "name": "stdout",
     "output_type": "stream",
     "text": [
      "Encoding origin\n",
      "Encoding destination\n",
      "Encoding airline\n",
      "Encoding departing time\n",
      "Encoding arrival time\n"
     ]
    }
   ],
   "source": [
    "df = og_df.copy(deep=True)\n",
    "df = encode(df)"
   ]
  },
  {
   "cell_type": "markdown",
   "metadata": {},
   "source": [
    "Finally, let's create a correlation matrix of the features of the original dataframe to visualize any important correlations."
   ]
  },
  {
   "cell_type": "code",
   "execution_count": 35,
   "metadata": {},
   "outputs": [
    {
     "data": {
      "image/png": "[encoded data removed]",
      "text/plain": [
       "<Figure size 432x288 with 2 Axes>"
      ]
     },
     "metadata": {
      "needs_background": "light"
     },
     "output_type": "display_data"
    }
   ],
   "source": [
    "corr = corr_df.corr()\n",
    "sns.heatmap(corr, linewidths=.25)\n",
    "plt.xticks(range(len(corr.columns)), corr.columns, rotation=90)\n",
    "plt.yticks(range(len(corr.columns)), corr.columns)\n",
    "plt.gca().xaxis.tick_bottom()\n",
    "plt.title('Correlation Matrix')\n",
    "plt.show()"
   ]
  },
  {
   "cell_type": "markdown",
   "metadata": {},
   "source": [
    "There's nothing too surprising here; strong correlations are mostly between variables that depend on each other- such as distance and air time. One notable point is that there is a correlation between arrival delay and departure delay. This could prove useful when making arrival time predictions- we might use the departure time prediction as a feature in the arrival time prediction. "
   ]
  },
  {
   "cell_type": "markdown",
   "metadata": {},
   "source": [
    "## Building the Model\n",
    "\n",
    "Now we can begin to build the model. As before, we're using the Keras API so we can export the models as `json` files and open them up with tensorflow.js in the browser."
   ]
  },
  {
   "cell_type": "code",
   "execution_count": 10,
   "metadata": {},
   "outputs": [],
   "source": [
    "import tensorflow as tf\n",
    "from tensorflow import keras"
   ]
  },
  {
   "cell_type": "markdown",
   "metadata": {},
   "source": [
    "Here's the functions to create the output classes as well as prepare the data by splitting into training and testing lists. Since the departure and delay times are continuous value, they need to be split into individual classes. We'll use two different classses: 0 for $x < 10$, and 1 for $x >= 10$. Note that we could easily add any number of possible classes, but for now we are interested in two cases; late and not late. We've set the definition of late to be +10 minutes relative to scheduled arrival or departure. "
   ]
  },
  {
   "cell_type": "code",
   "execution_count": 11,
   "metadata": {},
   "outputs": [],
   "source": [
    "classes = 2\n",
    "\n",
    "def create_classes(y):\n",
    "    for i in range(len(y)):\n",
    "        if y[i] < 10:\n",
    "            y[i] = 0\n",
    "        else:\n",
    "            y[i] = 1\n",
    "    return y\n",
    "\n",
    "def prepare_data(X, y):\n",
    "    y = y.tolist()\n",
    "    y = create_classes(y)\n",
    "    return train_test_split(X, y, test_size=0.2, random_state=42)"
   ]
  },
  {
   "cell_type": "markdown",
   "metadata": {},
   "source": [
    "### Departure Delays \n",
    "\n",
    "First, let's build a model of departure delays. We begin by selecting which parts of the dataframe to use as  features:"
   ]
  },
  {
   "cell_type": "code",
   "execution_count": 12,
   "metadata": {},
   "outputs": [],
   "source": [
    "y = df['DepDelay']\n",
    "X = df.drop(columns=['DepDelay', 'ArrDelay', 'Dest'])"
   ]
  },
  {
   "cell_type": "markdown",
   "metadata": {},
   "source": [
    "Now we categorize and split the data:"
   ]
  },
  {
   "cell_type": "code",
   "execution_count": 13,
   "metadata": {},
   "outputs": [
    {
     "name": "stdout",
     "output_type": "stream",
     "text": [
      "        Month  DayOfWeek  Reporting_Airline  Origin  DepTimeBlk  ArrTimeBlk\n",
      "361473     11          5                  0      66           9          11\n",
      "1361        5          6                 11     139          13          14\n",
      "26999       5          5                 11     188           2           3\n",
      "299190      5          7                  8      87           4           5\n",
      "97552      12          2                  3     199          12          15\n"
     ]
    }
   ],
   "source": [
    "X_train, X_test, y_train, y_test = prepare_data(X, y)\n",
    "\n",
    "print(X_train[:5])"
   ]
  },
  {
   "cell_type": "markdown",
   "metadata": {},
   "source": [
    "Now, the model. Previously we were using a regression model, but with a bit of tweaking we can make a classification model using the same keras `Sequential` model. Rather than a single value output, the new model uses a softmax layer to output two possible values for the two classes."
   ]
  },
  {
   "cell_type": "code",
   "execution_count": 14,
   "metadata": {},
   "outputs": [],
   "source": [
    "def build_classification_model(X_train):\n",
    "  model = keras.Sequential([\n",
    "    keras.layers.Dense(64, activation=tf.nn.sigmoid, input_shape=(X_train.shape[1],)),\n",
    "    keras.layers.Dense(64, activation=tf.nn.sigmoid), \n",
    "    keras.layers.Dense(64, activation=tf.nn.sigmoid),\n",
    "    keras.layers.Dense(classes, activation=tf.nn.softmax)\n",
    "  ])\n",
    "\n",
    "  model.compile(optimizer='adam', \n",
    "              loss='sparse_categorical_crossentropy',\n",
    "              metrics=['accuracy'])\n",
    "\n",
    "  return model\n",
    "\n",
    "EPOCHS = 4"
   ]
  },
  {
   "cell_type": "markdown",
   "metadata": {},
   "source": [
    "We can now build and train the model. We're just training for 4 epochs to get a sense of the accuracy."
   ]
  },
  {
   "cell_type": "code",
   "execution_count": 15,
   "metadata": {},
   "outputs": [
    {
     "name": "stdout",
     "output_type": "stream",
     "text": [
      "WARNING:tensorflow:From /usr/local/lib/python3.7/site-packages/tensorflow/python/ops/resource_variable_ops.py:435: colocate_with (from tensorflow.python.framework.ops) is deprecated and will be removed in a future version.\n",
      "Instructions for updating:\n",
      "Colocations handled automatically by placer.\n",
      "Epoch 1/4\n",
      "446469/446469 [==============================] - 19s 42us/sample - loss: 0.5081 - acc: 0.7799\n",
      "Epoch 2/4\n",
      "446469/446469 [==============================] - 19s 42us/sample - loss: 0.5060 - acc: 0.7800\n",
      "Epoch 3/4\n",
      "446469/446469 [==============================] - 19s 43us/sample - loss: 0.5053 - acc: 0.7800\n",
      "Epoch 4/4\n",
      "446469/446469 [==============================] - 19s 42us/sample - loss: 0.5048 - acc: 0.7800\n"
     ]
    }
   ],
   "source": [
    "model = build_classification_model(X_train)\n",
    "\n",
    "history = model.fit(X_train, y_train, epochs=EPOCHS)"
   ]
  },
  {
   "cell_type": "markdown",
   "metadata": {},
   "source": [
    "Now that the model is trained, we can check the accuracy on the test set. "
   ]
  },
  {
   "cell_type": "code",
   "execution_count": 16,
   "metadata": {},
   "outputs": [
    {
     "name": "stdout",
     "output_type": "stream",
     "text": [
      "111618/111618 [==============================] - 2s 17us/sample - loss: 0.5042 - acc: 0.7808\n",
      "Model accuracy on test data is 78.08%\n"
     ]
    }
   ],
   "source": [
    "test_loss, test_acc = model.evaluate(X_test, y_test)\n",
    "\n",
    "print('Model accuracy on test data is {:2.2f}%'.format(100* test_acc))"
   ]
  },
  {
   "cell_type": "markdown",
   "metadata": {},
   "source": [
    "Not *fantastic* accuracy, but passable for the first try. Let's take a look at some of the predictions."
   ]
  },
  {
   "cell_type": "code",
   "execution_count": 17,
   "metadata": {},
   "outputs": [
    {
     "name": "stdout",
     "output_type": "stream",
     "text": [
      "Predicted class: 0\n",
      "Real class: 0\n",
      "73% chance correct\n",
      "\n",
      "Predicted class: 0\n",
      "Real class: 1\n",
      "66% chance correct\n",
      "\n",
      "Predicted class: 0\n",
      "Real class: 0\n",
      "73% chance correct\n",
      "\n",
      "Predicted class: 0\n",
      "Real class: 0\n",
      "70% chance correct\n",
      "\n",
      "Predicted class: 0\n",
      "Real class: 0\n",
      "72% chance correct\n",
      "\n"
     ]
    }
   ],
   "source": [
    "predictions = model.predict(X_test)\n",
    "\n",
    "for index in range(5):\n",
    "    print('Predicted class: {}'.format(np.argmax(predictions[index])))\n",
    "    print('Real class: {}'.format(y_test[index]))\n",
    "\n",
    "    print('{:2.0f}% chance correct\\n'.format(100*np.max(predictions[index])))"
   ]
  },
  {
   "cell_type": "markdown",
   "metadata": {},
   "source": [
    "There appears to be some variation in the predicted probability for each guess being correct. Let's create two groups--right and wrong guesses--and create some statistics for each."
   ]
  },
  {
   "cell_type": "code",
   "execution_count": 33,
   "metadata": {},
   "outputs": [
    {
     "name": "stdout",
     "output_type": "stream",
     "text": [
      "Wrong guesses: avg 73%, variance 0.643%\n",
      "Right guesses: avg 77%, variance 0.711%\n"
     ]
    }
   ],
   "source": [
    "wrong_guesses = []\n",
    "correct_guesses = []\n",
    "\n",
    "for index in range(len(predictions)):\n",
    "    if np.argmax(predictions[index]) != y_test[index]:\n",
    "        wrong_guesses.append(np.max(predictions[index]))\n",
    "    else:\n",
    "        correct_guesses.append(np.max(predictions[index]))\n",
    "\n",
    "print('Wrong guesses: avg {:2.0f}%, variance {:.3f}%'.format(100*np.mean(wrong_guesses), 100*np.var(wrong_guesses)))\n",
    "print('Right guesses: avg {:2.0f}%, variance {:.3f}%'.format(100*np.mean(correct_guesses), 100*np.var(correct_guesses)))"
   ]
  },
  {
   "cell_type": "markdown",
   "metadata": {},
   "source": [
    "The higher average for right guesses (77%) compared to wrong guesses (73%) is good, as it indicates that when the model makes a prediction with a higher probability it will more often be correct. \n",
    "\n",
    "Now we take a look at the distribution of correct and incorrect guesses and their related probabilities. "
   ]
  },
  {
   "cell_type": "code",
   "execution_count": 19,
   "metadata": {},
   "outputs": [
    {
     "data": {
      "image/png": "[encoded data removed]",
      "text/plain": [
       "<Figure size 432x288 with 1 Axes>"
      ]
     },
     "metadata": {
      "needs_background": "light"
     },
     "output_type": "display_data"
    }
   ],
   "source": [
    "sns.distplot(wrong_guesses)\n",
    "plt.title('Histogram of Wrong Guess Probabilities')\n",
    "plt.xlabel('Probability of Guess')\n",
    "plt.ylabel('Frequency')\n",
    "plt.show()"
   ]
  },
  {
   "cell_type": "code",
   "execution_count": 20,
   "metadata": {},
   "outputs": [
    {
     "data": {
      "image/png": "[encoded data removed]",
      "text/plain": [
       "<Figure size 432x288 with 1 Axes>"
      ]
     },
     "metadata": {
      "needs_background": "light"
     },
     "output_type": "display_data"
    }
   ],
   "source": [
    "sns.distplot(correct_guesses)\n",
    "plt.title('Histogram of Correct Guess Probabilities')\n",
    "plt.xlabel('Probability of Guess')\n",
    "plt.ylabel('Frequency')\n",
    "plt.show()"
   ]
  },
  {
   "cell_type": "markdown",
   "metadata": {},
   "source": [
    "These two histograms reiterate the above point, where correct guesses appear to have a relatively high number of guess probabilities around 0.9 and the remainder around 0.7-0.8. For the incorrect guesses, we see that the distribution is unimodal, centered around 0.7 with relatively few guesses around 0.9. This is what we want to see for this category, as the model is not producing particularily high guess probabilities for guesses that aren't accurate and is producing much higher guess probabilities to guesses that are correct. "
   ]
  },
  {
   "cell_type": "code",
   "execution_count": 21,
   "metadata": {},
   "outputs": [
    {
     "data": {
      "image/png": "[encoded data removed]",
      "text/plain": [
       "<Figure size 432x432 with 3 Axes>"
      ]
     },
     "metadata": {
      "needs_background": "light"
     },
     "output_type": "display_data"
    }
   ],
   "source": [
    "new_correct = np.split(correct_guesses, [len(wrong_guesses)])[0]\n",
    "\n",
    "sns.jointplot(x=wrong_guesses, y=new_correct, kind='kde', color='k')\n",
    "\n",
    "plt.show()"
   ]
  },
  {
   "cell_type": "markdown",
   "metadata": {},
   "source": [
    "Overlaying the two histograms, it becomes clear that the correct guesses (Y axis) have a much higher concentration of probabilities around 0.9. Incorrect guesses (X axis) are more closely gathered around 0.7. Most guess probabilities seem to be in this area.\n",
    "\n",
    "### Arrival Delays\n",
    " \n",
    "Let's take a similar approach and create predictions of arrival delays, rather than departures. Let's revise and perhaps add some additional features to the model. At the moment, the origin and destination features are arbitrary numbers created by the encoder. We've created some more meaningful statistics that can be found on the [FlyGenius API](https://api.flygeni.us/docs) that might improve accuracy. In particular, each airline's percent ontime arrivals and departures, as well as each airport's percent ontime departures. We'll begin by adding airlines' percent ontime departures. \n",
    "\n",
    "First, we get the data from the API:"
   ]
  },
  {
   "cell_type": "code",
   "execution_count": 22,
   "metadata": {},
   "outputs": [],
   "source": [
    "r = requests.get('https://api.flygeni.us/airports/?use_details=True')\n",
    "airports = r.json()\n",
    "\n",
    "r = requests.get('https://api.flygeni.us/airlines/?use_details=True')\n",
    "airlines = r.json()\n",
    "\n",
    "def get_airline_percent_ontime(id):\n",
    "    for obj in airlines:\n",
    "        if obj['airline_id'] == id:\n",
    "            return obj['airline_percent_ontime_arrival']\n",
    "        \n",
    "def get_airport_percent_ontime(id):\n",
    "    for obj in airports:\n",
    "        if obj['airport_id'] == id:\n",
    "            return obj['airport_percent_ontime_departure']\n"
   ]
  },
  {
   "cell_type": "markdown",
   "metadata": {},
   "source": [
    "Now we encode the airline and origin fields with their respective statistics:"
   ]
  },
  {
   "cell_type": "code",
   "execution_count": 23,
   "metadata": {},
   "outputs": [
    {
     "name": "stdout",
     "output_type": "stream",
     "text": [
      "Encoding departing time\n",
      "Encoding arrival time\n"
     ]
    }
   ],
   "source": [
    "new_df = og_df.copy(deep=True)\n",
    "new_df = encode(new_df, airline=False, origin=False, destination=False)\n",
    "\n",
    "new_df['Reporting_Airline'] = new_df['Reporting_Airline'].map(lambda x: get_airline_percent_ontime(x))\n",
    "new_df['Origin'] = new_df['Origin'].map(lambda x: get_airport_percent_ontime(x))\n",
    "new_df['Dest'] = new_df['Dest'].map(lambda x: get_airport_percent_ontime(x))"
   ]
  },
  {
   "cell_type": "markdown",
   "metadata": {},
   "source": [
    " Since these are arrival delays, there's an additional feature that can be used: the departure delay. In practice, we would not know if the flight departed late, but we can create two different predictions; one for the flight departing on time and another for the flight departing late. Let's create this new feature now."
   ]
  },
  {
   "cell_type": "code",
   "execution_count": 28,
   "metadata": {},
   "outputs": [
    {
     "name": "stdout",
     "output_type": "stream",
     "text": [
      "        Month  DayOfWeek  Reporting_Airline  Origin  DepDelay\n",
      "361473     11          5                 80      82         0\n",
      "1361        5          6                 78      74         1\n",
      "26999       5          5                 78      83         0\n",
      "299190      5          7                 80      88         0\n",
      "97552      12          2                 85      77         0\n"
     ]
    }
   ],
   "source": [
    "y = new_df['ArrDelay']\n",
    "X = new_df.drop(columns=['ArrDelay', 'ArrTimeBlk', 'DepTimeBlk', 'Dest'])\n",
    "\n",
    "X['DepDelay'] = X['DepDelay'].map(lambda x: 0 if x < 15 else 1 )\n",
    "\n",
    "X_train, X_test, y_train, y_test = prepare_data(X, y)\n",
    "\n",
    "print(X_train[:5])"
   ]
  },
  {
   "cell_type": "markdown",
   "metadata": {},
   "source": [
    "Now we can build and train the model:"
   ]
  },
  {
   "cell_type": "code",
   "execution_count": 29,
   "metadata": {},
   "outputs": [
    {
     "name": "stdout",
     "output_type": "stream",
     "text": [
      "Epoch 1/4\n",
      "446469/446469 [==============================] - 19s 44us/sample - loss: 0.3146 - acc: 0.9039\n",
      "Epoch 2/4\n",
      "446469/446469 [==============================] - 19s 43us/sample - loss: 0.3044 - acc: 0.9086\n",
      "Epoch 3/4\n",
      "446469/446469 [==============================] - 19s 43us/sample - loss: 0.3040 - acc: 0.9086\n",
      "Epoch 4/4\n",
      "446469/446469 [==============================] - 19s 43us/sample - loss: 0.3040 - acc: 0.9086\n"
     ]
    }
   ],
   "source": [
    "model = build_classification_model(X_train)\n",
    "\n",
    "history = model.fit(X_train, y_train, epochs=EPOCHS)"
   ]
  },
  {
   "cell_type": "code",
   "execution_count": 30,
   "metadata": {},
   "outputs": [
    {
     "name": "stdout",
     "output_type": "stream",
     "text": [
      "111618/111618 [==============================] - 2s 19us/sample - loss: 0.3048 - acc: 0.9079\n",
      "Model accuracy on test data is 90.79%\n"
     ]
    }
   ],
   "source": [
    "test_loss, test_acc = model.evaluate(X_test, y_test)\n",
    "\n",
    "print('Model accuracy on test data is {:2.2f}%'.format(100* test_acc))"
   ]
  },
  {
   "cell_type": "markdown",
   "metadata": {},
   "source": [
    "With just a few tweaks, we gain over 10% in accuracy over the departure delay model. The last thing to do is visualize the prediction statistics with a confusion matrix."
   ]
  },
  {
   "cell_type": "code",
   "execution_count": null,
   "metadata": {},
   "outputs": [],
   "source": [
    "def create_confusion_matrix(model):\n",
    "    predictions = model.predict(X_test)\n",
    "    simplified_pred = []\n",
    "    \n",
    "    for index in range(len(predictions)):\n",
    "        simplified_pred.append(np.argmax(predictions[index]))\n",
    "    \n",
    "    confusion = confusion_matrix(y_test, simplified_pred)\n",
    "    \n",
    "    sns.heatmap(confusion, annot=True, fmt=\"d\", linewidths=.5)\n",
    "    plt.title('Confusion Matrix')\n",
    "    plt.xlabel('Predicted Classes')\n",
    "    plt.ylabel('Real Classes')\n",
    "    plt.show()\n",
    "    \n",
    "    return simplified_pred"
   ]
  },
  {
   "cell_type": "code",
   "execution_count": 31,
   "metadata": {},
   "outputs": [
    {
     "data": {
      "image/png": "[encoded data removed]",
      "text/plain": [
       "<Figure size 432x288 with 2 Axes>"
      ]
     },
     "metadata": {
      "needs_background": "light"
     },
     "output_type": "display_data"
    }
   ],
   "source": [
    "simplified_pred = create_confusion_matrix(model)"
   ]
  },
  {
   "cell_type": "markdown",
   "metadata": {},
   "source": [
    "Let's take a look at how many the model correctly predicted of each class."
   ]
  },
  {
   "cell_type": "code",
   "execution_count": 32,
   "metadata": {},
   "outputs": [
    {
     "name": "stdout",
     "output_type": "stream",
     "text": [
      "Correctly guessed class 1 93% of the time\n",
      "Correctly guessed class 0 88% of the time\n"
     ]
    }
   ],
   "source": [
    "incorrect_1 = 0\n",
    "incorrect_0 = 0\n",
    "pred_1 = 0\n",
    "pred_0 = 0\n",
    "\n",
    "for index in range(len(simplified_pred)):\n",
    "    if simplified_pred[index] == 1:\n",
    "        pred_1 += 1\n",
    "        if y_test[index] != 1:\n",
    "            incorrect_1 += 1\n",
    "        \n",
    "    elif simplified_pred[index] == 0:\n",
    "        pred_0 += 1\n",
    "        if y_test[index] != 0:\n",
    "            incorrect_0 += 1\n",
    "\n",
    "print('Correctly guessed class 1 {:2.0f}% of the time'.format(100 * 1 - (pred_1 / incorrect_1)))\n",
    "print('Correctly guessed class 0 {:2.0f}% of the time'.format(100 * 1 - (pred_0 / incorrect_0)))    "
   ]
  },
  {
   "cell_type": "markdown",
   "metadata": {},
   "source": [
    "This indicates that the model is more accurate at predicting that a flight will be late (93%) than a flight will be on time (88%). So, the when the model predicts that a flight will arrive late, that is a fairly accurate prediction, which is a good thing. Both accuracy metrics are definitely high enough to work with, though there is always more that can be done. \n",
    "\n",
    "## Next Steps \n",
    "\n",
    "For this dataset, the next steps might include bringing in some historical weather data and using it as an additional feature. Additionally, we might also examine the reasons for delay a bit more, as weather is not the only cause. A delay of the flight before, for example, has an effect on the delay of the next flight. It could be possible to determine if the flight before arrived late by checking the airplane's tail number in the dataset. \n",
    "\n",
    "\n",
    "To see the model in action, head over to [FlyGenius](https://flygeni.us) and make some predictions!\n"
   ]
  }
 ],
 "metadata": {
  "kernelspec": {
   "display_name": "Python 3",
   "language": "python",
   "name": "python3"
  },
  "language_info": {
   "codemirror_mode": {
    "name": "ipython",
    "version": 3
   },
   "file_extension": ".py",
   "mimetype": "text/x-python",
   "name": "python",
   "nbconvert_exporter": "python",
   "pygments_lexer": "ipython3",
   "version": "3.7.2"
  }
 },
 "nbformat": 4,
 "nbformat_minor": 2
}
